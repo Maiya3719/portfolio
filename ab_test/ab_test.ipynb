{
 "cells": [
  {
   "cell_type": "markdown",
   "metadata": {},
   "source": [
    "# Проведение A/B теста"
   ]
  },
  {
   "cell_type": "markdown",
   "metadata": {},
   "source": [
    "### Описание проекта:\n",
    "\n",
    "В данном проекте представлены данные отдела маркетинга интернет-магазина для проведения A/B теста. \n",
    "\n",
    "Цель проекта - запустить А/В тест и проанализировать результаты."
   ]
  },
  {
   "cell_type": "markdown",
   "metadata": {},
   "source": [
    "### План проекта\n",
    "\n",
    "- Анализ кумулятивных и относительных показателей продаж по группам;\n",
    "- расчет и анализ 95-ого и 99-ого перцентиля количества заказов на пользователя и стоимости заказов;\n",
    "- анализ статистической значимости различий в среднем количестве заказов на посетителя, в среднем чеке заказа между группами по «сырым» и \"очищенным\" данным;\n",
    "- анализ результатов теста:\n",
    "1. Остановить тест, зафиксировать победу одной из групп.\n",
    "2. Остановить тест, зафиксировать отсутствие различий между группами.\n",
    "3. Продолжить тест."
   ]
  },
  {
   "cell_type": "markdown",
   "metadata": {},
   "source": [
    "### Описание данных\n",
    "\n",
    "Файл orders.csv:\n",
    "\n",
    "- transactionId — идентификатор заказа;\n",
    "- visitorId — идентификатор пользователя, совершившего заказ;\n",
    "- date — дата, когда был совершён заказ;\n",
    "- revenue — выручка заказа;\n",
    "- group — группа A/B-теста, в которую попал заказ.\n",
    "\n",
    "Файл visitors.csv:\n",
    "- date — дата;\n",
    "- group — группа A/B-теста;\n",
    "- visitors — количество пользователей в указанную дату в указанной группе A/B-теста\n"
   ]
  },
  {
   "cell_type": "code",
   "execution_count": 1,
   "metadata": {},
   "outputs": [],
   "source": [
    "import pandas as pd\n",
    "import scipy.stats as stats\n",
    "import datetime as dt\n",
    "import numpy as np\n",
    "import matplotlib.pyplot as plt"
   ]
  },
  {
   "cell_type": "markdown",
   "metadata": {},
   "source": [
    "## Анализ А/В теста "
   ]
  },
  {
   "cell_type": "code",
   "execution_count": 7,
   "metadata": {},
   "outputs": [
    {
     "data": {
      "text/html": [
       "<div>\n",
       "<style scoped>\n",
       "    .dataframe tbody tr th:only-of-type {\n",
       "        vertical-align: middle;\n",
       "    }\n",
       "\n",
       "    .dataframe tbody tr th {\n",
       "        vertical-align: top;\n",
       "    }\n",
       "\n",
       "    .dataframe thead th {\n",
       "        text-align: right;\n",
       "    }\n",
       "</style>\n",
       "<table border=\"1\" class=\"dataframe\">\n",
       "  <thead>\n",
       "    <tr style=\"text-align: right;\">\n",
       "      <th></th>\n",
       "      <th>transactionId</th>\n",
       "      <th>visitorId</th>\n",
       "      <th>date</th>\n",
       "      <th>revenue</th>\n",
       "      <th>group</th>\n",
       "    </tr>\n",
       "  </thead>\n",
       "  <tbody>\n",
       "    <tr>\n",
       "      <th>0</th>\n",
       "      <td>3667963787</td>\n",
       "      <td>3312258926</td>\n",
       "      <td>2019-08-15</td>\n",
       "      <td>1650</td>\n",
       "      <td>B</td>\n",
       "    </tr>\n",
       "    <tr>\n",
       "      <th>1</th>\n",
       "      <td>2804400009</td>\n",
       "      <td>3642806036</td>\n",
       "      <td>2019-08-15</td>\n",
       "      <td>730</td>\n",
       "      <td>B</td>\n",
       "    </tr>\n",
       "    <tr>\n",
       "      <th>2</th>\n",
       "      <td>2961555356</td>\n",
       "      <td>4069496402</td>\n",
       "      <td>2019-08-15</td>\n",
       "      <td>400</td>\n",
       "      <td>A</td>\n",
       "    </tr>\n",
       "    <tr>\n",
       "      <th>3</th>\n",
       "      <td>3797467345</td>\n",
       "      <td>1196621759</td>\n",
       "      <td>2019-08-15</td>\n",
       "      <td>9759</td>\n",
       "      <td>B</td>\n",
       "    </tr>\n",
       "    <tr>\n",
       "      <th>4</th>\n",
       "      <td>2282983706</td>\n",
       "      <td>2322279887</td>\n",
       "      <td>2019-08-15</td>\n",
       "      <td>2308</td>\n",
       "      <td>B</td>\n",
       "    </tr>\n",
       "  </tbody>\n",
       "</table>\n",
       "</div>"
      ],
      "text/plain": [
       "   transactionId   visitorId        date  revenue group\n",
       "0     3667963787  3312258926  2019-08-15     1650     B\n",
       "1     2804400009  3642806036  2019-08-15      730     B\n",
       "2     2961555356  4069496402  2019-08-15      400     A\n",
       "3     3797467345  1196621759  2019-08-15     9759     B\n",
       "4     2282983706  2322279887  2019-08-15     2308     B"
      ]
     },
     "metadata": {},
     "output_type": "display_data"
    },
    {
     "name": "stdout",
     "output_type": "stream",
     "text": [
      "<class 'pandas.core.frame.DataFrame'>\n",
      "RangeIndex: 1197 entries, 0 to 1196\n",
      "Data columns (total 5 columns):\n",
      " #   Column         Non-Null Count  Dtype \n",
      "---  ------         --------------  ----- \n",
      " 0   transactionId  1197 non-null   int64 \n",
      " 1   visitorId      1197 non-null   int64 \n",
      " 2   date           1197 non-null   object\n",
      " 3   revenue        1197 non-null   int64 \n",
      " 4   group          1197 non-null   object\n",
      "dtypes: int64(3), object(2)\n",
      "memory usage: 46.9+ KB\n",
      "<class 'pandas.core.frame.DataFrame'>\n",
      "RangeIndex: 62 entries, 0 to 61\n",
      "Data columns (total 3 columns):\n",
      " #   Column    Non-Null Count  Dtype \n",
      "---  ------    --------------  ----- \n",
      " 0   date      62 non-null     object\n",
      " 1   group     62 non-null     object\n",
      " 2   visitors  62 non-null     int64 \n",
      "dtypes: int64(1), object(2)\n",
      "memory usage: 1.6+ KB\n"
     ]
    },
    {
     "data": {
      "text/html": [
       "<div>\n",
       "<style scoped>\n",
       "    .dataframe tbody tr th:only-of-type {\n",
       "        vertical-align: middle;\n",
       "    }\n",
       "\n",
       "    .dataframe tbody tr th {\n",
       "        vertical-align: top;\n",
       "    }\n",
       "\n",
       "    .dataframe thead th {\n",
       "        text-align: right;\n",
       "    }\n",
       "</style>\n",
       "<table border=\"1\" class=\"dataframe\">\n",
       "  <thead>\n",
       "    <tr style=\"text-align: right;\">\n",
       "      <th></th>\n",
       "      <th>date</th>\n",
       "      <th>group</th>\n",
       "      <th>visitors</th>\n",
       "    </tr>\n",
       "  </thead>\n",
       "  <tbody>\n",
       "    <tr>\n",
       "      <th>0</th>\n",
       "      <td>2019-08-01</td>\n",
       "      <td>A</td>\n",
       "      <td>719</td>\n",
       "    </tr>\n",
       "    <tr>\n",
       "      <th>1</th>\n",
       "      <td>2019-08-02</td>\n",
       "      <td>A</td>\n",
       "      <td>619</td>\n",
       "    </tr>\n",
       "    <tr>\n",
       "      <th>2</th>\n",
       "      <td>2019-08-03</td>\n",
       "      <td>A</td>\n",
       "      <td>507</td>\n",
       "    </tr>\n",
       "    <tr>\n",
       "      <th>3</th>\n",
       "      <td>2019-08-04</td>\n",
       "      <td>A</td>\n",
       "      <td>717</td>\n",
       "    </tr>\n",
       "    <tr>\n",
       "      <th>4</th>\n",
       "      <td>2019-08-05</td>\n",
       "      <td>A</td>\n",
       "      <td>756</td>\n",
       "    </tr>\n",
       "  </tbody>\n",
       "</table>\n",
       "</div>"
      ],
      "text/plain": [
       "         date group  visitors\n",
       "0  2019-08-01     A       719\n",
       "1  2019-08-02     A       619\n",
       "2  2019-08-03     A       507\n",
       "3  2019-08-04     A       717\n",
       "4  2019-08-05     A       756"
      ]
     },
     "execution_count": 7,
     "metadata": {},
     "output_type": "execute_result"
    }
   ],
   "source": [
    "orders = pd.read_csv('orders.csv')\n",
    "display(orders.head())\n",
    "orders.info()\n",
    "visitors = pd.read_csv('visitors.csv')\n",
    "visitors.info()\n",
    "visitors.head()"
   ]
  },
  {
   "cell_type": "code",
   "execution_count": 8,
   "metadata": {},
   "outputs": [
    {
     "name": "stdout",
     "output_type": "stream",
     "text": [
      "<class 'pandas.core.frame.DataFrame'>\n",
      "RangeIndex: 1197 entries, 0 to 1196\n",
      "Data columns (total 5 columns):\n",
      " #   Column         Non-Null Count  Dtype         \n",
      "---  ------         --------------  -----         \n",
      " 0   transactionId  1197 non-null   int64         \n",
      " 1   visitorId      1197 non-null   int64         \n",
      " 2   date           1197 non-null   datetime64[ns]\n",
      " 3   revenue        1197 non-null   int64         \n",
      " 4   group          1197 non-null   object        \n",
      "dtypes: datetime64[ns](1), int64(3), object(1)\n",
      "memory usage: 46.9+ KB\n",
      "<class 'pandas.core.frame.DataFrame'>\n",
      "RangeIndex: 62 entries, 0 to 61\n",
      "Data columns (total 3 columns):\n",
      " #   Column    Non-Null Count  Dtype         \n",
      "---  ------    --------------  -----         \n",
      " 0   date      62 non-null     datetime64[ns]\n",
      " 1   group     62 non-null     object        \n",
      " 2   visitors  62 non-null     int64         \n",
      "dtypes: datetime64[ns](1), int64(1), object(1)\n",
      "memory usage: 1.6+ KB\n"
     ]
    }
   ],
   "source": [
    "orders['date'] = orders['date'].map(lambda x: dt.datetime.strptime(x, '%Y-%m-%d'))\n",
    "orders.info()\n",
    "visitors['date'] = visitors['date'].map(lambda x: dt.datetime.strptime(x, '%Y-%m-%d'))\n",
    "visitors.info()"
   ]
  },
  {
   "cell_type": "code",
   "execution_count": 9,
   "metadata": {},
   "outputs": [
    {
     "name": "stdout",
     "output_type": "stream",
     "text": [
      "['A' 'B']\n",
      "['B' 'A']\n",
      "2019-08-01 00:00:00\n",
      "2019-08-31 00:00:00\n",
      "2019-08-01 00:00:00\n",
      "2019-08-31 00:00:00\n"
     ]
    }
   ],
   "source": [
    "print(visitors['group'].unique())\n",
    "print(orders['group'].unique())\n",
    "print(visitors['date'].min())\n",
    "print(visitors['date'].max())\n",
    "print(orders['date'].min())\n",
    "print(orders['date'].max())\n"
   ]
  },
  {
   "cell_type": "code",
   "execution_count": 10,
   "metadata": {},
   "outputs": [
    {
     "data": {
      "text/html": [
       "<div>\n",
       "<style scoped>\n",
       "    .dataframe tbody tr th:only-of-type {\n",
       "        vertical-align: middle;\n",
       "    }\n",
       "\n",
       "    .dataframe tbody tr th {\n",
       "        vertical-align: top;\n",
       "    }\n",
       "\n",
       "    .dataframe thead th {\n",
       "        text-align: right;\n",
       "    }\n",
       "</style>\n",
       "<table border=\"1\" class=\"dataframe\">\n",
       "  <thead>\n",
       "    <tr style=\"text-align: right;\">\n",
       "      <th></th>\n",
       "      <th>visitorId</th>\n",
       "      <th>group</th>\n",
       "    </tr>\n",
       "  </thead>\n",
       "  <tbody>\n",
       "    <tr>\n",
       "      <th>2</th>\n",
       "      <td>8300375</td>\n",
       "      <td>2</td>\n",
       "    </tr>\n",
       "    <tr>\n",
       "      <th>44</th>\n",
       "      <td>199603092</td>\n",
       "      <td>2</td>\n",
       "    </tr>\n",
       "    <tr>\n",
       "      <th>51</th>\n",
       "      <td>232979603</td>\n",
       "      <td>2</td>\n",
       "    </tr>\n",
       "    <tr>\n",
       "      <th>55</th>\n",
       "      <td>237748145</td>\n",
       "      <td>2</td>\n",
       "    </tr>\n",
       "    <tr>\n",
       "      <th>66</th>\n",
       "      <td>276558944</td>\n",
       "      <td>2</td>\n",
       "    </tr>\n",
       "  </tbody>\n",
       "</table>\n",
       "</div>"
      ],
      "text/plain": [
       "    visitorId  group\n",
       "2     8300375      2\n",
       "44  199603092      2\n",
       "51  232979603      2\n",
       "55  237748145      2\n",
       "66  276558944      2"
      ]
     },
     "metadata": {},
     "output_type": "display_data"
    },
    {
     "data": {
      "text/html": [
       "<div>\n",
       "<style scoped>\n",
       "    .dataframe tbody tr th:only-of-type {\n",
       "        vertical-align: middle;\n",
       "    }\n",
       "\n",
       "    .dataframe tbody tr th {\n",
       "        vertical-align: top;\n",
       "    }\n",
       "\n",
       "    .dataframe thead th {\n",
       "        text-align: right;\n",
       "    }\n",
       "</style>\n",
       "<table border=\"1\" class=\"dataframe\">\n",
       "  <thead>\n",
       "    <tr style=\"text-align: right;\">\n",
       "      <th></th>\n",
       "      <th>transactionId</th>\n",
       "      <th>visitorId</th>\n",
       "      <th>date</th>\n",
       "      <th>revenue</th>\n",
       "      <th>group</th>\n",
       "    </tr>\n",
       "  </thead>\n",
       "  <tbody>\n",
       "    <tr>\n",
       "      <th>0</th>\n",
       "      <td>3667963787</td>\n",
       "      <td>3312258926</td>\n",
       "      <td>2019-08-15</td>\n",
       "      <td>1650</td>\n",
       "      <td>B</td>\n",
       "    </tr>\n",
       "    <tr>\n",
       "      <th>1</th>\n",
       "      <td>2804400009</td>\n",
       "      <td>3642806036</td>\n",
       "      <td>2019-08-15</td>\n",
       "      <td>730</td>\n",
       "      <td>B</td>\n",
       "    </tr>\n",
       "    <tr>\n",
       "      <th>3</th>\n",
       "      <td>3797467345</td>\n",
       "      <td>1196621759</td>\n",
       "      <td>2019-08-15</td>\n",
       "      <td>9759</td>\n",
       "      <td>B</td>\n",
       "    </tr>\n",
       "    <tr>\n",
       "      <th>4</th>\n",
       "      <td>2282983706</td>\n",
       "      <td>2322279887</td>\n",
       "      <td>2019-08-15</td>\n",
       "      <td>2308</td>\n",
       "      <td>B</td>\n",
       "    </tr>\n",
       "    <tr>\n",
       "      <th>5</th>\n",
       "      <td>182168103</td>\n",
       "      <td>935554773</td>\n",
       "      <td>2019-08-15</td>\n",
       "      <td>2210</td>\n",
       "      <td>B</td>\n",
       "    </tr>\n",
       "  </tbody>\n",
       "</table>\n",
       "</div>"
      ],
      "text/plain": [
       "   transactionId   visitorId       date  revenue group\n",
       "0     3667963787  3312258926 2019-08-15     1650     B\n",
       "1     2804400009  3642806036 2019-08-15      730     B\n",
       "3     3797467345  1196621759 2019-08-15     9759     B\n",
       "4     2282983706  2322279887 2019-08-15     2308     B\n",
       "5      182168103   935554773 2019-08-15     2210     B"
      ]
     },
     "execution_count": 10,
     "metadata": {},
     "output_type": "execute_result"
    }
   ],
   "source": [
    "groups_count_df = orders.groupby('visitorId').agg({'group':'nunique'}).reset_index()\n",
    "visitors_with_multiple_groups = groups_count_df[groups_count_df['group'] > 1]\n",
    "display(visitors_with_multiple_groups.head())\n",
    "orders = orders.query('visitorId not in @visitors_with_multiple_groups[\"visitorId\"]')\n",
    "orders.head()"
   ]
  },
  {
   "cell_type": "code",
   "execution_count": 17,
   "metadata": {},
   "outputs": [
    {
     "name": "stdout",
     "output_type": "stream",
     "text": [
      "       visitorId\n",
      "group           \n",
      "A            468\n",
      "B            548\n"
     ]
    }
   ],
   "source": [
    "print(orders.groupby('group').agg({'visitorId':'count'}))"
   ]
  },
  {
   "cell_type": "markdown",
   "metadata": {},
   "source": [
    "<div class=\"alert alert-info\">\n",
    "В данных представленны две группы для анализа - А и В. Данные представлены за период с 1 августа 2019 года по 31 августа 2019 года в таблицах orders и visitors. Были найдены и исключены пользователи, попавшие в обе группы. По итогу в группе А - 468 пользователей, в группе В - 548 пользователей."
   ]
  },
  {
   "cell_type": "markdown",
   "metadata": {},
   "source": [
    "### График кумулятивной выручки по группам"
   ]
  },
  {
   "cell_type": "code",
   "execution_count": 24,
   "metadata": {},
   "outputs": [
    {
     "name": "stdout",
     "output_type": "stream",
     "text": [
      "        date group  orders  buyers  revenue  visitors\n",
      "0 2019-08-01     A      23      19   142779       719\n",
      "1 2019-08-01     B      17      17    59758       713\n",
      "2 2019-08-02     A      42      36   234381      1338\n",
      "3 2019-08-02     B      40      39   221801      1294\n",
      "4 2019-08-03     A      66      60   346854      1845\n"
     ]
    },
    {
     "data": {
      "image/png": "[encoded data removed]",
      "text/plain": [
       "<Figure size 1500x480 with 1 Axes>"
      ]
     },
     "metadata": {},
     "output_type": "display_data"
    }
   ],
   "source": [
    "datesGroups = orders[['date','group']].drop_duplicates() \n",
    "ordersAggregated = (datesGroups\n",
    "    .apply(lambda x: orders[np.logical_and(orders['date'] <= x['date'], orders['group'] == x['group'])]\n",
    "    .agg({'date' : 'max', 'group' : 'max', 'transactionId' : 'nunique', 'visitorId' : 'nunique', 'revenue' : 'sum'}), axis=1)\n",
    "    .sort_values(by=['date','group']))\n",
    "\n",
    "visitorsAggregated = (datesGroups\n",
    "    .apply(lambda x: visitors[np.logical_and(visitors['date'] <= x['date'], visitors['group'] == x['group'])]\n",
    "    .agg({'date' : 'max', 'group' : 'max', 'visitors' : 'sum'}), axis=1)\n",
    "    .sort_values(by=['date','group']))\n",
    "\n",
    "cumulativeData = ordersAggregated.merge(visitorsAggregated, left_on=['date', 'group'], right_on=['date', 'group'])\n",
    "cumulativeData.columns = ['date', 'group', 'orders', 'buyers', 'revenue', 'visitors']\n",
    "\n",
    "print(cumulativeData.head(5))\n",
    "\n",
    "cumulativeRevenueA = cumulativeData[cumulativeData['group']=='A'][['date','revenue', 'orders']]\n",
    "cumulativeRevenueB = cumulativeData[cumulativeData['group']=='B'][['date','revenue', 'orders']]\n",
    "fig, ax = plt.subplots()\n",
    "ax.plot(cumulativeRevenueA['date'], cumulativeRevenueA['revenue'], label='A')\n",
    "ax.plot(cumulativeRevenueB['date'], cumulativeRevenueB['revenue'], label='B')\n",
    "fig.set_figwidth(15)\n",
    "plt.grid()\n",
    "plt.legend()\n",
    "plt.title('График кумулятивной выручки')\n",
    "plt.xlabel('Дата')\n",
    "plt.ylabel('Выручка')\n",
    "plt.show()"
   ]
  },
  {
   "cell_type": "markdown",
   "metadata": {},
   "source": [
    "<div class=\"alert alert-info\"> Выручка по обеим группам растет в течение периода. В 20-х числах августа выручка группы В резко возросла. Разница между группами  составила около 1,5 млн рублей. До конца периода сохраняется эта разница в выручке между группами. Этот скачек может свидетельствовать об аномальных значениях: всплеск числа заказов или появление дорогих заказов в выборке, но также и о том, что реализация гипотезы по повышению выручки сработала."
   ]
  },
  {
   "cell_type": "markdown",
   "metadata": {},
   "source": [
    "### График кумулятивного среднего чека по группам"
   ]
  },
  {
   "cell_type": "code",
   "execution_count": 11,
   "metadata": {},
   "outputs": [
    {
     "data": {
      "image/png": "[encoded data removed]",
      "text/plain": [
       "<Figure size 1080x288 with 1 Axes>"
      ]
     },
     "metadata": {
      "needs_background": "light"
     },
     "output_type": "display_data"
    }
   ],
   "source": [
    "fig, ax = plt.subplots()\n",
    "ax.plot(cumulativeRevenueA['date'], cumulativeRevenueA['revenue'] / \n",
    "         cumulativeRevenueA['orders'], label='A')\n",
    "ax.plot(cumulativeRevenueB['date'], cumulativeRevenueB['revenue'] / \n",
    "         cumulativeRevenueB['orders'], label='B')\n",
    "fig.set_figwidth(15)\n",
    "plt.grid()\n",
    "plt.legend() \n",
    "plt.title('График кумулятивного среднего чека')\n",
    "plt.xlabel('Дата')\n",
    "plt.ylabel('Сумма среднего чека')\n",
    "\n",
    "plt.show()"
   ]
  },
  {
   "cell_type": "markdown",
   "metadata": {},
   "source": [
    "<div class=\"alert alert-info\"> График также говорит о том, что в середине периода в группе В наблюдается резкий рост продаж, растет и средний чек. За несколько дней средний чек, находившийся в пределах 7000, вырос и стал более 10000, далее до конца периода размер среднего чека группы В постепенно снижался, на конец период средний чек упал почти на 1000 единиц. В группе А на всем периоде средний чек сохраняет значения в интервале от 5000 до 70000. "
   ]
  },
  {
   "cell_type": "markdown",
   "metadata": {},
   "source": [
    " ### График относительного изменения кумулятивного среднего чека группы B к группе A."
   ]
  },
  {
   "cell_type": "code",
   "execution_count": 8,
   "metadata": {},
   "outputs": [
    {
     "data": {
      "text/html": [
       "<div>\n",
       "<style scoped>\n",
       "    .dataframe tbody tr th:only-of-type {\n",
       "        vertical-align: middle;\n",
       "    }\n",
       "\n",
       "    .dataframe tbody tr th {\n",
       "        vertical-align: top;\n",
       "    }\n",
       "\n",
       "    .dataframe thead th {\n",
       "        text-align: right;\n",
       "    }\n",
       "</style>\n",
       "<table border=\"1\" class=\"dataframe\">\n",
       "  <thead>\n",
       "    <tr style=\"text-align: right;\">\n",
       "      <th></th>\n",
       "      <th>date</th>\n",
       "      <th>revenueA</th>\n",
       "      <th>ordersA</th>\n",
       "      <th>revenueB</th>\n",
       "      <th>ordersB</th>\n",
       "    </tr>\n",
       "  </thead>\n",
       "  <tbody>\n",
       "    <tr>\n",
       "      <th>0</th>\n",
       "      <td>2019-08-01</td>\n",
       "      <td>142779</td>\n",
       "      <td>23</td>\n",
       "      <td>59758</td>\n",
       "      <td>17</td>\n",
       "    </tr>\n",
       "    <tr>\n",
       "      <th>1</th>\n",
       "      <td>2019-08-02</td>\n",
       "      <td>234381</td>\n",
       "      <td>42</td>\n",
       "      <td>221801</td>\n",
       "      <td>40</td>\n",
       "    </tr>\n",
       "    <tr>\n",
       "      <th>2</th>\n",
       "      <td>2019-08-03</td>\n",
       "      <td>346854</td>\n",
       "      <td>66</td>\n",
       "      <td>288850</td>\n",
       "      <td>54</td>\n",
       "    </tr>\n",
       "    <tr>\n",
       "      <th>3</th>\n",
       "      <td>2019-08-04</td>\n",
       "      <td>388030</td>\n",
       "      <td>77</td>\n",
       "      <td>385740</td>\n",
       "      <td>68</td>\n",
       "    </tr>\n",
       "    <tr>\n",
       "      <th>4</th>\n",
       "      <td>2019-08-05</td>\n",
       "      <td>474413</td>\n",
       "      <td>99</td>\n",
       "      <td>475648</td>\n",
       "      <td>89</td>\n",
       "    </tr>\n",
       "  </tbody>\n",
       "</table>\n",
       "</div>"
      ],
      "text/plain": [
       "        date  revenueA  ordersA  revenueB  ordersB\n",
       "0 2019-08-01    142779       23     59758       17\n",
       "1 2019-08-02    234381       42    221801       40\n",
       "2 2019-08-03    346854       66    288850       54\n",
       "3 2019-08-04    388030       77    385740       68\n",
       "4 2019-08-05    474413       99    475648       89"
      ]
     },
     "metadata": {},
     "output_type": "display_data"
    },
    {
     "data": {
      "image/png": "[encoded data removed]",
      "text/plain": [
       "<Figure size 1500x480 with 1 Axes>"
      ]
     },
     "metadata": {},
     "output_type": "display_data"
    }
   ],
   "source": [
    "mergedCumulativeRevenue = cumulativeRevenueA. \\\n",
    "    merge(cumulativeRevenueB, left_on='date', right_on='date', how='left', suffixes=['A', 'B'])\n",
    "display(mergedCumulativeRevenue.head())\n",
    "fig, ax = plt.subplots()\n",
    "ax.plot(mergedCumulativeRevenue['date'], \n",
    "         (mergedCumulativeRevenue['revenueB'] / mergedCumulativeRevenue['ordersB']) / \n",
    "         (mergedCumulativeRevenue['revenueA'] / mergedCumulativeRevenue['ordersA']) - 1)\n",
    "fig.set_figwidth(15)\n",
    "plt.axhline(y=0, color='black', linestyle='--')\n",
    "plt.grid()\n",
    "plt.title('График относительного изменения кумулятивного среднего чека группы B к группе A')\n",
    "plt.xlabel('Дата')\n",
    "plt.ylabel('Доля изменения')\n",
    "plt.show()"
   ]
  },
  {
   "cell_type": "markdown",
   "metadata": {},
   "source": [
    "<div class=\"alert alert-info\"> На протяжении всего периода наблюдаются скачи и падения, возможно где-то все таки есть аномалии. Правая половина графика схожа с графиком среднего чека группы В. Дело в том, что данные группы А более стабильны и находились примерно на одном уровне, а в группе В данные росли и падали. "
   ]
  },
  {
   "cell_type": "markdown",
   "metadata": {},
   "source": [
    "### График кумулятивной конверсии по группам"
   ]
  },
  {
   "cell_type": "code",
   "execution_count": 13,
   "metadata": {},
   "outputs": [
    {
     "data": {
      "image/png": "[encoded data removed]",
      "text/plain": [
       "<Figure size 1080x288 with 1 Axes>"
      ]
     },
     "metadata": {
      "needs_background": "light"
     },
     "output_type": "display_data"
    }
   ],
   "source": [
    "cumulativeData['conversion'] = cumulativeData['orders'] / cumulativeData['visitors']\n",
    "cumulativeDataA = cumulativeData[cumulativeData['group']=='A']\n",
    "cumulativeDataB = cumulativeData[cumulativeData['group']=='B']\n",
    "fig, ax = plt.subplots()\n",
    "ax.plot(cumulativeDataA['date'], cumulativeDataA['conversion'], label='A')\n",
    "ax.plot(cumulativeDataB['date'], cumulativeDataB['conversion'], label='B')\n",
    "fig.set_figwidth(15)\n",
    "plt.legend()\n",
    "plt.grid()\n",
    "plt.title('График кумулятивной конверсии')\n",
    "plt.xlabel('Дата')\n",
    "plt.ylabel('Размер конверсии')\n",
    "plt.show()"
   ]
  },
  {
   "cell_type": "markdown",
   "metadata": {},
   "source": [
    "<div class=\"alert alert-info\"> В графиках группы А и В наблюдается симметрия. В начале скачки и падения были в обеих группах. Далее на протяжении всего периода конверсия группы В колебалась в периоде от 0.029 до 0.032, конверсия группа А демонстрирует спад и колебания в интервале от 0.025 до 0.027."
   ]
  },
  {
   "cell_type": "markdown",
   "metadata": {},
   "source": [
    "### График относительного изменения кумулятивной конверсии группы B к группе A"
   ]
  },
  {
   "cell_type": "code",
   "execution_count": 14,
   "metadata": {},
   "outputs": [
    {
     "data": {
      "image/png": "[encoded data removed]",
      "text/plain": [
       "<Figure size 1080x288 with 1 Axes>"
      ]
     },
     "metadata": {
      "needs_background": "light"
     },
     "output_type": "display_data"
    }
   ],
   "source": [
    "mergedCumulativeConversions = (cumulativeDataA[['date','conversion']] \n",
    "    .merge(cumulativeDataB[['date','conversion']], left_on='date', right_on='date', \n",
    "           how='left', suffixes=['A', 'B']))\n",
    "fig, ax = plt.subplots()\n",
    "ax.plot(mergedCumulativeConversions['date'], \n",
    "         mergedCumulativeConversions['conversionB'] / mergedCumulativeConversions['conversionA'] - 1)\n",
    "fig.set_figwidth(15)\n",
    "plt.axhline(y=0, color='black', linestyle='--')\n",
    "plt.axhline(y=0.1, color='gray', linestyle='--')\n",
    "plt.grid()\n",
    "plt.title(' График относительного изменения кумулятивной конверсии группы B к группе A')\n",
    "plt.xlabel('Дата')\n",
    "plt.ylabel('Доля кумулятивной конверсии')\n",
    "plt.show()"
   ]
  },
  {
   "cell_type": "markdown",
   "metadata": {},
   "source": [
    "<div class=\"alert alert-info\"> В первые 6 дней кумулятивная конверсия в группе В была меньше чем в группе А, однако с 6 числа и до конца периода конверсия группы В превышает конверсию в группе А. График группы В стабилизировался около 0.15."
   ]
  },
  {
   "cell_type": "markdown",
   "metadata": {},
   "source": [
    "### Точечный график количества заказов по пользователям "
   ]
  },
  {
   "cell_type": "code",
   "execution_count": 25,
   "metadata": {},
   "outputs": [
    {
     "name": "stdout",
     "output_type": "stream",
     "text": [
      "         userId  orders\n",
      "908  3967698036       3\n",
      "55    249864742       3\n",
      "478  2108163459       3\n",
      "687  2988190573       3\n",
      "890  3908431265       3\n",
      "138   611059232       3\n",
      "632  2742574263       3\n",
      "157   678354126       2\n",
      "323  1404560065       2\n",
      "452  1985475298       2\n"
     ]
    },
    {
     "data": {
      "image/png": "[encoded data removed]",
      "text/plain": [
       "<Figure size 640x480 with 1 Axes>"
      ]
     },
     "metadata": {},
     "output_type": "display_data"
    }
   ],
   "source": [
    "ordersByUsers = (\n",
    "    orders.groupby('visitorId', as_index=False)\n",
    "    .agg({'transactionId': 'nunique'})\n",
    ")\n",
    "ordersByUsers.columns = ['userId', 'orders']\n",
    "print(ordersByUsers.sort_values(by='orders', ascending=False).head(10))\n",
    "x_values = pd.Series(range(0, len(ordersByUsers)))\n",
    "plt.scatter(x_values, ordersByUsers['orders'])\n",
    "plt.title('Точечный график количества заказов по пользователям')\n",
    "plt.xlabel('Пользователи')\n",
    "plt.ylabel('Число заказов')\n",
    "plt.grid()\n",
    "plt.show()"
   ]
  },
  {
   "cell_type": "markdown",
   "metadata": {},
   "source": [
    "<div class=\"alert alert-info\"> Согласно графику есть единичные пользователи, которые совершили 3 заказа, есть много пользователей с 1 заказом, далее с увеличением числа заказов пользователей все меньше. Пока что сложно понять с какого размера заказов начинаются аномалии: либо с 2 либо с 3."
   ]
  },
  {
   "cell_type": "markdown",
   "metadata": {},
   "source": [
    "### Расчет перцентилей количества заказов на пользователя"
   ]
  },
  {
   "cell_type": "code",
   "execution_count": 26,
   "metadata": {},
   "outputs": [
    {
     "name": "stdout",
     "output_type": "stream",
     "text": [
      "[1. 2.]\n",
      "1.0\n"
     ]
    }
   ],
   "source": [
    "print(np.percentile(ordersByUsers['orders'], [95, 99]))\n",
    "percentile_95_orders = np.percentile(ordersByUsers['orders'], 95)\n",
    "print(percentile_95_orders)"
   ]
  },
  {
   "cell_type": "markdown",
   "metadata": {},
   "source": [
    "<div class=\"alert alert-info\"> 5% пользователей оформили более 1 заказа, 1% пользователей оформил более 2 заказов. Границей  для определения аномалий можно считать более 1 заказа."
   ]
  },
  {
   "cell_type": "markdown",
   "metadata": {},
   "source": [
    "### Точечный график стоимостей заказов"
   ]
  },
  {
   "cell_type": "code",
   "execution_count": 27,
   "metadata": {},
   "outputs": [
    {
     "name": "stdout",
     "output_type": "stream",
     "text": [
      "425     1294500\n",
      "1196     202740\n",
      "1136      92550\n",
      "744       86620\n",
      "743       67990\n",
      "Name: revenue, dtype: int64\n"
     ]
    },
    {
     "data": {
      "image/png": "[encoded data removed]",
      "text/plain": [
       "<Figure size 640x480 with 1 Axes>"
      ]
     },
     "metadata": {},
     "output_type": "display_data"
    }
   ],
   "source": [
    "x_values = pd.Series(range(0, len(orders['revenue'])))\n",
    "plt.scatter(x_values, orders['revenue']) \n",
    "print(orders['revenue'].sort_values(ascending=False).head())\n",
    "plt.title('Точечный график стоимостей заказов')\n",
    "plt.xlabel('Заказы')\n",
    "plt.ylabel('Стоимость заказа')\n",
    "plt.grid()\n",
    "plt.show()"
   ]
  },
  {
   "cell_type": "markdown",
   "metadata": {},
   "source": [
    "<div class=\"alert alert-info\"> Согласно графику стоимость заказов обычно находится в пределах 100 тысяч. Имеется два выбивающихся значения - 1 294 500 рублей и 202740 рублей."
   ]
  },
  {
   "cell_type": "markdown",
   "metadata": {},
   "source": [
    "###  Расчет перцентилей стоимости заказов"
   ]
  },
  {
   "cell_type": "code",
   "execution_count": 28,
   "metadata": {},
   "outputs": [
    {
     "name": "stdout",
     "output_type": "stream",
     "text": [
      "[26785. 53904.]\n",
      "26785.0\n"
     ]
    }
   ],
   "source": [
    "print(np.percentile(orders['revenue'], [95, 99]))\n",
    "percentile_95_revenue = np.percentile(orders['revenue'], 95)\n",
    "print(percentile_95_revenue)"
   ]
  },
  {
   "cell_type": "markdown",
   "metadata": {},
   "source": [
    "<div class=\"alert alert-info\"> Не более 5% заказов дороже 26785 рублей и не более 1% заказов дороже 53904 рублей. Границей для определения аномалий можно считать заказы стоимостью более 26785 рублей."
   ]
  },
  {
   "cell_type": "markdown",
   "metadata": {},
   "source": [
    "### Расчет статистической значимости различий в конверсии между группами по «сырым» данным "
   ]
  },
  {
   "cell_type": "markdown",
   "metadata": {},
   "source": [
    "При расчете статистической значимости в первую очередь необходимо сформулировать гипотезы.\n",
    "\n",
    "Нулевая гипотеза: между группами нет различий в конверсии.\n",
    "Альтернативная гипотеза: между группами имеются различия в конверсии."
   ]
  },
  {
   "cell_type": "code",
   "execution_count": 29,
   "metadata": {},
   "outputs": [
    {
     "name": "stdout",
     "output_type": "stream",
     "text": [
      "0.011\n",
      "0.160\n"
     ]
    }
   ],
   "source": [
    "visitors_a = visitors.loc[visitors['group'] == 'A'].groupby('date')['visitors'].sum()\n",
    "visitors_b = visitors.loc[visitors['group'] == 'B'].groupby('date')['visitors'].sum()\n",
    "\n",
    "ordersByUsersA = (\n",
    "    orders[orders['group'] == 'A']\n",
    "    .groupby('visitorId', as_index=False)\n",
    "    .agg({'transactionId': 'nunique'})\n",
    ")\n",
    "ordersByUsersA.columns = ['userId', 'orders']\n",
    "\n",
    "ordersByUsersB = (\n",
    "    orders[orders['group'] == 'B']\n",
    "    .groupby('visitorId', as_index=False)\n",
    "    .agg({'transactionId': 'nunique'})\n",
    ")\n",
    "ordersByUsersB.columns = ['userId', 'orders']\n",
    "\n",
    "sampleA = pd.concat(\n",
    "    [\n",
    "        ordersByUsersA['orders'],\n",
    "        pd.Series(\n",
    "            0,\n",
    "            index=np.arange(\n",
    "                visitors_a.sum() - len(ordersByUsersA['orders'])\n",
    "            ),\n",
    "            name='orders',\n",
    "        ),\n",
    "    ],\n",
    "    axis=0,\n",
    ")\n",
    "\n",
    "sampleB = pd.concat(\n",
    "    [\n",
    "        ordersByUsersB['orders'],\n",
    "        pd.Series(\n",
    "            0,\n",
    "            index=np.arange(\n",
    "                visitors_b.sum() - len(ordersByUsersB['orders'])\n",
    "            ),\n",
    "            name='orders',\n",
    "        ),\n",
    "    ],\n",
    "    axis=0,\n",
    ")\n",
    "\n",
    "print(\"{0:.3f}\".format(stats.mannwhitneyu(sampleA, sampleB)[1]))\n",
    "\n",
    "print(\"{0:.3f}\".format(sampleB.mean() / sampleA.mean() - 1))"
   ]
  },
  {
   "cell_type": "markdown",
   "metadata": {},
   "source": [
    "<div class=\"alert alert-info\"> p-value=0.011, что меньше 0.05, следовательно гипотеза о том что конверсии в группах равны маловероятна и от нее необходимо отказаться. В среднем конверсия в группах различается на 16% что также подтверждает вывод о том, что нулевая гипотеза не подтвердилась."
   ]
  },
  {
   "cell_type": "markdown",
   "metadata": {},
   "source": [
    "### Расчет статистической значимости различий  в среднем чеке заказа между группами по «сырым» данным"
   ]
  },
  {
   "cell_type": "markdown",
   "metadata": {},
   "source": [
    "Нулевая гипотеза: в среднеем чеке по группам нет различий.\n",
    "Альтернативная гипотеза: в среднем чеке по группам имеются различия."
   ]
  },
  {
   "cell_type": "code",
   "execution_count": 20,
   "metadata": {},
   "outputs": [
    {
     "name": "stdout",
     "output_type": "stream",
     "text": [
      "0.829\n",
      "0.287\n"
     ]
    }
   ],
   "source": [
    "print('{0:.3f}'.format(stats.mannwhitneyu(orders[orders['group']=='A']['revenue'],\n",
    "                                          orders[orders['group']=='B']['revenue'])[1]))\n",
    "print('{0:.3f}'.format(orders[orders['group']=='B']['revenue'].mean() / \n",
    "                       orders[orders['group']=='A']['revenue'].mean() - 1))"
   ]
  },
  {
   "cell_type": "markdown",
   "metadata": {},
   "source": [
    "<div class=\"alert alert-info\"> p-value равно 0.829, что значительно больше 0.05, следовательно нулевая гипотеза не может быть отвергнута. Однако относительная разница между средним чеком группы В и группы А равна 28.7%"
   ]
  },
  {
   "cell_type": "markdown",
   "metadata": {},
   "source": [
    "### Расчет статистической значимости различий в конверсии между группами по «очищенным» данным "
   ]
  },
  {
   "cell_type": "markdown",
   "metadata": {},
   "source": [
    "Нулевая гипотеза: между группами нет различий в конверсии.\n",
    "Альтернативная гипотеза: между группами имеются различия в конверсии."
   ]
  },
  {
   "cell_type": "code",
   "execution_count": 21,
   "metadata": {},
   "outputs": [
    {
     "name": "stdout",
     "output_type": "stream",
     "text": [
      "568     113298937\n",
      "1099    148427295\n",
      "928     204675465\n",
      "33      249864742\n",
      "684     358944393\n",
      "dtype: int64\n",
      "86\n"
     ]
    }
   ],
   "source": [
    "usersWithManyOrders = pd.concat(\n",
    "    [\n",
    "        ordersByUsersA[ordersByUsersA['orders'] > percentile_95_orders]['userId'],\n",
    "        ordersByUsersB[ordersByUsersB['orders'] > percentile_95_orders]['userId'],\n",
    "    ],\n",
    "    axis=0,\n",
    ")\n",
    "usersWithExpensiveOrders = orders[orders['revenue'] > percentile_95_revenue]['visitorId']\n",
    "abnormalUsers = (\n",
    "    pd.concat([usersWithManyOrders, usersWithExpensiveOrders], axis=0)\n",
    "    .drop_duplicates()\n",
    "    .sort_values()\n",
    ")\n",
    "print(abnormalUsers.head(5))\n",
    "print(abnormalUsers.shape[0])"
   ]
  },
  {
   "cell_type": "code",
   "execution_count": 22,
   "metadata": {},
   "outputs": [],
   "source": [
    "sampleAFiltered = pd.concat(\n",
    "    [\n",
    "        ordersByUsersA[\n",
    "            np.logical_not(ordersByUsersA['userId'].isin(abnormalUsers))\n",
    "        ]['orders'],\n",
    "        pd.Series(\n",
    "            0,\n",
    "            index=np.arange(\n",
    "                visitors_a.sum() - len(ordersByUsersA['orders'])\n",
    "            ),\n",
    "            name='orders',\n",
    "        ),\n",
    "    ],\n",
    "    axis=0,\n",
    ")\n",
    "sampleBFiltered = pd.concat(\n",
    "    [\n",
    "        ordersByUsersB[\n",
    "            np.logical_not(ordersByUsersB['userId'].isin(abnormalUsers))\n",
    "        ]['orders'],\n",
    "        pd.Series(\n",
    "            0,\n",
    "            index=np.arange(\n",
    "                visitors_b.sum() - len(ordersByUsersB['orders'])\n",
    "            ),\n",
    "            name='orders',\n",
    "        ),\n",
    "    ],\n",
    "    axis=0,\n",
    ")"
   ]
  },
  {
   "cell_type": "code",
   "execution_count": 23,
   "metadata": {},
   "outputs": [
    {
     "name": "stdout",
     "output_type": "stream",
     "text": [
      "0.016\n",
      "0.174\n"
     ]
    }
   ],
   "source": [
    "print('{0:.3f}'.format(stats.mannwhitneyu(sampleAFiltered, sampleBFiltered)[1]))\n",
    "print('{0:.3f}'.format(sampleBFiltered.mean() / sampleAFiltered.mean() - 1))"
   ]
  },
  {
   "cell_type": "markdown",
   "metadata": {},
   "source": [
    "<div class=\"alert alert-info\"> На очищенных данных значение p-value составило 0.016, что больше 0.05. Следовательно по очищенным данным результат крайне мал для подтверждения нулевой гипотезы. Об этом также свидетельствует расчет средней разницы (17%) между конверсиями групп. Нулевая гипотеза также должна быть отвергнута.\n"
   ]
  },
  {
   "cell_type": "markdown",
   "metadata": {},
   "source": [
    "### Расчет статистической значимости различий  в среднем чеке заказа между группами по «очищенным» данным"
   ]
  },
  {
   "cell_type": "markdown",
   "metadata": {},
   "source": [
    "Нулевая гипотеза: в среднеем чеке по группам нет различий.\n",
    "Альтернативная гипотеза: в среднем чеке по группам имеются различия."
   ]
  },
  {
   "cell_type": "code",
   "execution_count": 24,
   "metadata": {},
   "outputs": [
    {
     "name": "stdout",
     "output_type": "stream",
     "text": [
      "0.727\n",
      "-0.034\n"
     ]
    }
   ],
   "source": [
    "print(\n",
    "    '{0:.3f}'.format(\n",
    "        stats.mannwhitneyu(\n",
    "            orders[\n",
    "                np.logical_and(\n",
    "                    orders['group'] == 'A',\n",
    "                    np.logical_not(orders['visitorId'].isin(abnormalUsers)),\n",
    "                )\n",
    "            ]['revenue'],\n",
    "            orders[\n",
    "                np.logical_and(\n",
    "                    orders['group'] == 'B',\n",
    "                    np.logical_not(orders['visitorId'].isin(abnormalUsers)),\n",
    "                )\n",
    "            ]['revenue'],\n",
    "        )[1]\n",
    "    )\n",
    ")\n",
    "\n",
    "print(\n",
    "    \"{0:.3f}\".format(\n",
    "        orders[\n",
    "            np.logical_and(\n",
    "                orders['group'] == 'B',\n",
    "                np.logical_not(orders['visitorId'].isin(abnormalUsers)),\n",
    "            )\n",
    "        ]['revenue'].mean()\n",
    "        / orders[\n",
    "            np.logical_and(\n",
    "                orders['group'] == 'A',\n",
    "                np.logical_not(orders['visitorId'].isin(abnormalUsers)),\n",
    "            )\n",
    "        ]['revenue'].mean()\n",
    "        - 1\n",
    "    )\n",
    ")"
   ]
  },
  {
   "cell_type": "markdown",
   "metadata": {},
   "source": [
    "<div class=\"alert alert-info\"> На очищенных данных по средему чеку значение p-value уменьшилось, но по-прежнему боле 0.05, следовательно нулевая гипотеза не может быть отвергнута. На сырых данных в среднем различие между средним чеком составляло 29%, на очищенных данных в среднем разница составляет 3.4% в пользу группы А, можно сказать, что размер чека в среднем схож по обеим группам."
   ]
  },
  {
   "cell_type": "markdown",
   "metadata": {},
   "source": [
    "## Вывод"
   ]
  },
  {
   "cell_type": "markdown",
   "metadata": {},
   "source": [
    "<div class=\"alert alert-info\"> В проекте были представленны данные за август 2019 года по заказам группы А и В. На начальном этапе были исключены из анализа пользователи, которые попали в обе группы.\n",
    "Исходя из проведенного анализа можно сделать следующие выводы:\n",
    "\n",
    "- График кумулятивной выручки демонстрирует рост по обеим группам, однако в первых числах месяца рост значений в группе В превысил рост в группе А;\n",
    "- График кумулятивного среднего чека также отражает скачек данных по группе В;\n",
    "- График кумулятивной конверсии выглядит симметрично, примерно с 6 числа конверсия группы В стабильно выше конверсии по группе А;\n",
    "- В среднем пользователь осуществил за анализируемый период от 1 до 3 заказов. При расчете персентилей было принято считать пользователей, которые оформили более 1 заказа, аномалиями;\n",
    "- Были проведен анализ и по сумме заказа: 95% заказов -  до 30 тысяч рублей, однако были найдены аномально большие заказы. С помощью расчета персентилей было принято считать заказы со стоимостью более 26785 аномальными.\n",
    "- Был проведен расчет статистической значимости по сырым данным и \"очищенным\" (без аномалий): При этих расчетах гипотезу, о том что конверсии по группам равны, были вынуждены отвергнуть. А вот гипотезу о том, что средний чек в группах не различается, нет возможности отвергнуть. По очищенным данным в среднем разница между средним чеком составила 3.4% - что можно считать незначительной разницей.\n",
    "\n",
    "Динамика графиков и расчет статистической значимости конверсии по группам говорит нам о том, что группа В показывает динамику лучше и конверсия стабильно больше, чем в группе А. Следовательно стоит остановить тест, зафиксировать победу группы В."
   ]
  }
 ],
 "metadata": {
  "ExecuteTimeLog": [
   {
    "duration": 469,
    "start_time": "2022-06-12T06:36:42.924Z"
   },
   {
    "duration": 63,
    "start_time": "2022-06-12T06:37:58.758Z"
   },
   {
    "duration": 29,
    "start_time": "2022-06-12T06:38:10.767Z"
   },
   {
    "duration": 30,
    "start_time": "2022-06-12T06:41:03.026Z"
   },
   {
    "duration": 11,
    "start_time": "2022-06-12T06:41:19.471Z"
   },
   {
    "duration": 10,
    "start_time": "2022-06-12T06:41:30.630Z"
   },
   {
    "duration": 10,
    "start_time": "2022-06-12T06:42:10.921Z"
   },
   {
    "duration": 14,
    "start_time": "2022-06-12T06:43:01.287Z"
   },
   {
    "duration": 126,
    "start_time": "2022-06-12T07:02:54.859Z"
   },
   {
    "duration": 63,
    "start_time": "2022-06-12T07:03:32.118Z"
   },
   {
    "duration": 452,
    "start_time": "2022-06-12T07:04:24.532Z"
   },
   {
    "duration": 72,
    "start_time": "2022-06-12T07:06:33.406Z"
   },
   {
    "duration": 18,
    "start_time": "2022-06-12T07:07:57.580Z"
   },
   {
    "duration": 75,
    "start_time": "2022-06-12T07:08:29.299Z"
   },
   {
    "duration": 24,
    "start_time": "2022-06-12T07:09:01.279Z"
   },
   {
    "duration": 996,
    "start_time": "2022-06-13T13:13:12.951Z"
   },
   {
    "duration": 107,
    "start_time": "2022-06-13T13:13:14.742Z"
   },
   {
    "duration": 13,
    "start_time": "2022-06-13T13:13:20.516Z"
   },
   {
    "duration": 14,
    "start_time": "2022-06-13T13:13:23.105Z"
   },
   {
    "duration": 179,
    "start_time": "2022-06-13T13:13:28.731Z"
   },
   {
    "duration": 36,
    "start_time": "2022-06-13T13:13:37.953Z"
   },
   {
    "duration": 129,
    "start_time": "2022-06-13T13:19:36.102Z"
   },
   {
    "duration": 144,
    "start_time": "2022-06-13T13:26:24.933Z"
   },
   {
    "duration": 3,
    "start_time": "2022-06-13T13:26:43.343Z"
   },
   {
    "duration": 31,
    "start_time": "2022-06-13T13:26:45.606Z"
   },
   {
    "duration": 19,
    "start_time": "2022-06-13T13:26:46.656Z"
   },
   {
    "duration": 14,
    "start_time": "2022-06-13T13:26:48.711Z"
   },
   {
    "duration": 89,
    "start_time": "2022-06-13T13:26:57.323Z"
   },
   {
    "duration": 31,
    "start_time": "2022-06-13T13:27:15.481Z"
   },
   {
    "duration": 324,
    "start_time": "2022-06-13T13:27:24.688Z"
   },
   {
    "duration": 322,
    "start_time": "2022-06-13T13:28:42.960Z"
   },
   {
    "duration": 473,
    "start_time": "2022-06-13T13:28:59.598Z"
   },
   {
    "duration": 680,
    "start_time": "2022-06-13T13:29:06.387Z"
   },
   {
    "duration": 4,
    "start_time": "2022-06-13T13:29:12.018Z"
   },
   {
    "duration": 32,
    "start_time": "2022-06-13T13:29:12.511Z"
   },
   {
    "duration": 15,
    "start_time": "2022-06-13T13:29:13.193Z"
   },
   {
    "duration": 16,
    "start_time": "2022-06-13T13:29:13.737Z"
   },
   {
    "duration": 104,
    "start_time": "2022-06-13T13:29:15.197Z"
   },
   {
    "duration": 33,
    "start_time": "2022-06-13T13:29:15.936Z"
   },
   {
    "duration": 525,
    "start_time": "2022-06-13T13:29:16.779Z"
   },
   {
    "duration": 506,
    "start_time": "2022-06-13T13:32:35.377Z"
   },
   {
    "duration": 507,
    "start_time": "2022-06-13T13:32:48.027Z"
   },
   {
    "duration": 540,
    "start_time": "2022-06-13T13:33:43.399Z"
   },
   {
    "duration": 198,
    "start_time": "2022-06-13T13:41:29.506Z"
   },
   {
    "duration": 218,
    "start_time": "2022-06-13T13:43:33.721Z"
   },
   {
    "duration": 687,
    "start_time": "2022-06-13T13:48:30.320Z"
   },
   {
    "duration": 538,
    "start_time": "2022-06-13T13:48:36.444Z"
   },
   {
    "duration": 570,
    "start_time": "2022-06-13T13:48:45.776Z"
   },
   {
    "duration": 331,
    "start_time": "2022-06-13T13:55:09.781Z"
   },
   {
    "duration": 296,
    "start_time": "2022-06-13T13:55:23.784Z"
   },
   {
    "duration": 525,
    "start_time": "2022-06-13T14:01:58.614Z"
   },
   {
    "duration": 249,
    "start_time": "2022-06-13T14:02:34.593Z"
   },
   {
    "duration": 269,
    "start_time": "2022-06-13T14:03:08.787Z"
   },
   {
    "duration": 11,
    "start_time": "2022-06-13T14:05:12.625Z"
   },
   {
    "duration": 257,
    "start_time": "2022-06-13T14:06:00.889Z"
   },
   {
    "duration": 275,
    "start_time": "2022-06-13T14:06:28.014Z"
   },
   {
    "duration": 295,
    "start_time": "2022-06-13T14:06:41.677Z"
   },
   {
    "duration": 294,
    "start_time": "2022-06-13T14:08:52.028Z"
   },
   {
    "duration": 340,
    "start_time": "2022-06-13T14:11:21.986Z"
   },
   {
    "duration": 340,
    "start_time": "2022-06-13T14:11:47.411Z"
   },
   {
    "duration": 317,
    "start_time": "2022-06-13T14:12:32.089Z"
   },
   {
    "duration": 289,
    "start_time": "2022-06-13T14:21:59.810Z"
   },
   {
    "duration": 303,
    "start_time": "2022-06-13T14:22:15.298Z"
   },
   {
    "duration": 36,
    "start_time": "2022-06-13T14:22:36.082Z"
   },
   {
    "duration": 318,
    "start_time": "2022-06-13T14:22:43.878Z"
   },
   {
    "duration": 334,
    "start_time": "2022-06-13T14:23:23.150Z"
   },
   {
    "duration": 158,
    "start_time": "2022-06-13T14:30:57.333Z"
   },
   {
    "duration": 8,
    "start_time": "2022-06-13T14:35:29.644Z"
   },
   {
    "duration": 5,
    "start_time": "2022-06-13T14:35:47.803Z"
   },
   {
    "duration": 16,
    "start_time": "2022-06-13T14:35:51.194Z"
   },
   {
    "duration": 10,
    "start_time": "2022-06-13T14:37:32.973Z"
   },
   {
    "duration": 150,
    "start_time": "2022-06-13T14:38:36.143Z"
   },
   {
    "duration": 13,
    "start_time": "2022-06-13T14:39:02.090Z"
   },
   {
    "duration": 161,
    "start_time": "2022-06-13T14:39:17.424Z"
   },
   {
    "duration": 395,
    "start_time": "2022-06-13T14:41:05.688Z"
   },
   {
    "duration": 15,
    "start_time": "2022-06-13T14:41:35.494Z"
   },
   {
    "duration": 14,
    "start_time": "2022-06-13T14:41:43.838Z"
   },
   {
    "duration": 22,
    "start_time": "2022-06-13T14:42:15.974Z"
   },
   {
    "duration": 167,
    "start_time": "2022-06-13T14:43:55.150Z"
   },
   {
    "duration": 163,
    "start_time": "2022-06-13T14:44:51.657Z"
   },
   {
    "duration": 14,
    "start_time": "2022-06-13T14:48:13.492Z"
   },
   {
    "duration": 140,
    "start_time": "2022-06-13T14:48:51.333Z"
   },
   {
    "duration": 4,
    "start_time": "2022-06-13T15:34:46.118Z"
   },
   {
    "duration": 144,
    "start_time": "2022-06-13T15:52:46.400Z"
   },
   {
    "duration": 151,
    "start_time": "2022-06-13T15:53:47.088Z"
   },
   {
    "duration": 245,
    "start_time": "2022-06-13T15:53:56.008Z"
   },
   {
    "duration": 151,
    "start_time": "2022-06-13T15:54:05.922Z"
   },
   {
    "duration": 6,
    "start_time": "2022-06-13T15:57:40.886Z"
   },
   {
    "duration": 282,
    "start_time": "2022-06-13T16:11:03.791Z"
   },
   {
    "duration": 297,
    "start_time": "2022-06-13T16:11:12.386Z"
   },
   {
    "duration": 51,
    "start_time": "2022-06-13T16:16:09.857Z"
   },
   {
    "duration": 402,
    "start_time": "2022-06-13T16:16:40.948Z"
   },
   {
    "duration": 181,
    "start_time": "2022-06-13T16:21:56.220Z"
   },
   {
    "duration": 183,
    "start_time": "2022-06-13T16:22:41.435Z"
   },
   {
    "duration": 240,
    "start_time": "2022-06-13T16:48:14.346Z"
   },
   {
    "duration": 187,
    "start_time": "2022-06-13T16:51:21.188Z"
   },
   {
    "duration": 247,
    "start_time": "2022-06-13T16:51:27.693Z"
   },
   {
    "duration": 26,
    "start_time": "2022-06-13T16:55:21.923Z"
   },
   {
    "duration": 893,
    "start_time": "2022-06-13T17:00:44.408Z"
   },
   {
    "duration": 271,
    "start_time": "2022-06-13T17:01:07.956Z"
   },
   {
    "duration": 1075,
    "start_time": "2022-06-13T17:01:20.459Z"
   },
   {
    "duration": 1098,
    "start_time": "2022-06-13T17:01:42.570Z"
   },
   {
    "duration": 923,
    "start_time": "2022-06-13T17:02:03.842Z"
   },
   {
    "duration": 1290,
    "start_time": "2022-06-13T17:04:44.047Z"
   },
   {
    "duration": 995,
    "start_time": "2022-06-13T17:04:53.258Z"
   },
   {
    "duration": 929,
    "start_time": "2022-06-13T17:05:00.898Z"
   },
   {
    "duration": 765,
    "start_time": "2022-06-13T17:05:14.993Z"
   },
   {
    "duration": 17,
    "start_time": "2022-06-13T17:05:28.083Z"
   },
   {
    "duration": 14,
    "start_time": "2022-06-13T17:07:11.036Z"
   },
   {
    "duration": 44,
    "start_time": "2022-06-13T17:07:39.722Z"
   },
   {
    "duration": 598,
    "start_time": "2022-06-13T17:11:34.227Z"
   },
   {
    "duration": 32,
    "start_time": "2022-06-13T17:12:00.755Z"
   },
   {
    "duration": 15,
    "start_time": "2022-06-13T17:14:42.516Z"
   },
   {
    "duration": 12,
    "start_time": "2022-06-13T17:15:08.803Z"
   },
   {
    "duration": 15,
    "start_time": "2022-06-13T17:15:20.627Z"
   },
   {
    "duration": 15,
    "start_time": "2022-06-13T17:15:33.281Z"
   },
   {
    "duration": 31,
    "start_time": "2022-06-13T17:15:38.071Z"
   },
   {
    "duration": 13,
    "start_time": "2022-06-13T17:15:57.631Z"
   },
   {
    "duration": 13,
    "start_time": "2022-06-13T17:15:58.778Z"
   },
   {
    "duration": 48,
    "start_time": "2022-06-13T17:16:03.860Z"
   },
   {
    "duration": 16,
    "start_time": "2022-06-13T17:16:39.845Z"
   },
   {
    "duration": 5,
    "start_time": "2022-06-13T18:22:25.121Z"
   },
   {
    "duration": 79,
    "start_time": "2022-06-13T18:23:10.039Z"
   },
   {
    "duration": 19,
    "start_time": "2022-06-13T18:31:07.208Z"
   },
   {
    "duration": 21,
    "start_time": "2022-06-13T18:31:19.032Z"
   },
   {
    "duration": 118,
    "start_time": "2022-06-13T18:36:18.620Z"
   },
   {
    "duration": 39,
    "start_time": "2022-06-13T18:36:23.837Z"
   },
   {
    "duration": 695,
    "start_time": "2022-06-13T18:36:26.438Z"
   },
   {
    "duration": 221,
    "start_time": "2022-06-13T18:36:31.511Z"
   },
   {
    "duration": 347,
    "start_time": "2022-06-13T18:38:30.374Z"
   },
   {
    "duration": 266,
    "start_time": "2022-06-13T18:38:50.389Z"
   },
   {
    "duration": 368,
    "start_time": "2022-06-13T18:39:38.752Z"
   },
   {
    "duration": 212,
    "start_time": "2022-06-13T18:40:13.153Z"
   },
   {
    "duration": 17,
    "start_time": "2022-06-13T18:40:21.794Z"
   },
   {
    "duration": 311,
    "start_time": "2022-06-13T18:40:29.497Z"
   },
   {
    "duration": 6,
    "start_time": "2022-06-13T18:40:34.402Z"
   },
   {
    "duration": 396,
    "start_time": "2022-06-13T18:45:51.360Z"
   },
   {
    "duration": 453,
    "start_time": "2022-06-13T18:46:10.879Z"
   },
   {
    "duration": 261,
    "start_time": "2022-06-13T18:50:09.489Z"
   },
   {
    "duration": 245,
    "start_time": "2022-06-13T18:50:58.055Z"
   },
   {
    "duration": 127,
    "start_time": "2022-06-13T18:51:09.543Z"
   },
   {
    "duration": 52,
    "start_time": "2022-06-13T18:51:17.983Z"
   },
   {
    "duration": 52,
    "start_time": "2022-06-13T18:52:20.424Z"
   },
   {
    "duration": 52,
    "start_time": "2022-06-13T18:52:49.461Z"
   },
   {
    "duration": 31,
    "start_time": "2022-06-13T18:53:23.857Z"
   },
   {
    "duration": 16,
    "start_time": "2022-06-13T18:53:28.576Z"
   },
   {
    "duration": 11,
    "start_time": "2022-06-13T18:54:12.754Z"
   },
   {
    "duration": 40,
    "start_time": "2022-06-13T18:54:23.982Z"
   },
   {
    "duration": 23,
    "start_time": "2022-06-13T18:55:12.197Z"
   },
   {
    "duration": 957,
    "start_time": "2022-06-14T01:27:48.633Z"
   },
   {
    "duration": 128,
    "start_time": "2022-06-14T01:27:49.592Z"
   },
   {
    "duration": 21,
    "start_time": "2022-06-14T01:27:49.723Z"
   },
   {
    "duration": 13,
    "start_time": "2022-06-14T01:27:49.745Z"
   },
   {
    "duration": 160,
    "start_time": "2022-06-14T01:27:49.759Z"
   },
   {
    "duration": 31,
    "start_time": "2022-06-14T01:27:49.921Z"
   },
   {
    "duration": 558,
    "start_time": "2022-06-14T01:27:49.954Z"
   },
   {
    "duration": 182,
    "start_time": "2022-06-14T01:27:50.514Z"
   },
   {
    "duration": 297,
    "start_time": "2022-06-14T01:27:50.699Z"
   },
   {
    "duration": 198,
    "start_time": "2022-06-14T01:27:50.997Z"
   },
   {
    "duration": 304,
    "start_time": "2022-06-14T01:27:51.196Z"
   },
   {
    "duration": 227,
    "start_time": "2022-06-14T01:27:51.501Z"
   },
   {
    "duration": 7,
    "start_time": "2022-06-14T01:27:51.737Z"
   },
   {
    "duration": 223,
    "start_time": "2022-06-14T01:27:51.745Z"
   },
   {
    "duration": 61,
    "start_time": "2022-06-14T01:27:51.969Z"
   },
   {
    "duration": 419,
    "start_time": "2022-06-14T01:27:52.032Z"
   },
   {
    "duration": 89,
    "start_time": "2022-06-14T01:27:52.453Z"
   },
   {
    "duration": 9,
    "start_time": "2022-06-14T01:27:52.544Z"
   },
   {
    "duration": 12,
    "start_time": "2022-06-14T01:27:52.554Z"
   },
   {
    "duration": 65,
    "start_time": "2022-06-14T01:27:52.567Z"
   },
   {
    "duration": 99,
    "start_time": "2022-06-14T01:27:52.634Z"
   },
   {
    "duration": 14,
    "start_time": "2022-06-14T01:27:52.735Z"
   },
   {
    "duration": 43,
    "start_time": "2022-06-14T01:40:24.905Z"
   },
   {
    "duration": 46,
    "start_time": "2022-06-14T17:11:07.495Z"
   },
   {
    "duration": 1167,
    "start_time": "2022-06-14T17:11:13.565Z"
   },
   {
    "duration": 138,
    "start_time": "2022-06-14T17:11:17.249Z"
   },
   {
    "duration": 14,
    "start_time": "2022-06-14T17:11:21.145Z"
   },
   {
    "duration": 13,
    "start_time": "2022-06-14T17:11:44.446Z"
   },
   {
    "duration": 4,
    "start_time": "2022-06-14T17:11:56.036Z"
   },
   {
    "duration": 12,
    "start_time": "2022-06-14T17:12:02.040Z"
   },
   {
    "duration": 11,
    "start_time": "2022-06-14T17:12:19.782Z"
   },
   {
    "duration": 148,
    "start_time": "2022-06-14T17:12:29.311Z"
   },
   {
    "duration": 26,
    "start_time": "2022-06-14T17:12:32.523Z"
   },
   {
    "duration": 60,
    "start_time": "2022-06-14T17:22:53.740Z"
   },
   {
    "duration": 10,
    "start_time": "2022-06-14T17:23:00.499Z"
   },
   {
    "duration": 4,
    "start_time": "2022-06-14T17:23:10.240Z"
   },
   {
    "duration": 4,
    "start_time": "2022-06-14T17:23:39.517Z"
   },
   {
    "duration": 7,
    "start_time": "2022-06-14T17:25:04.861Z"
   },
   {
    "duration": 14,
    "start_time": "2022-06-14T17:28:38.745Z"
   },
   {
    "duration": 17,
    "start_time": "2022-06-14T17:28:59.546Z"
   },
   {
    "duration": 13,
    "start_time": "2022-06-14T17:29:32.007Z"
   },
   {
    "duration": 1180,
    "start_time": "2022-06-16T17:26:55.196Z"
   },
   {
    "duration": 142,
    "start_time": "2022-06-16T17:27:03.808Z"
   },
   {
    "duration": 16,
    "start_time": "2022-06-16T17:27:07.693Z"
   },
   {
    "duration": 15,
    "start_time": "2022-06-16T17:27:10.998Z"
   },
   {
    "duration": 210,
    "start_time": "2022-06-16T17:27:17.829Z"
   },
   {
    "duration": 26,
    "start_time": "2022-06-16T17:27:29.245Z"
   },
   {
    "duration": 12,
    "start_time": "2022-06-16T17:27:34.232Z"
   },
   {
    "duration": 10,
    "start_time": "2022-06-16T17:29:25.411Z"
   },
   {
    "duration": 13,
    "start_time": "2022-06-16T17:29:45.605Z"
   },
   {
    "duration": 10,
    "start_time": "2022-06-16T17:37:33.952Z"
   },
   {
    "duration": 628,
    "start_time": "2022-06-16T17:38:56.111Z"
   },
   {
    "duration": 587,
    "start_time": "2022-06-16T17:39:15.268Z"
   },
   {
    "duration": 215,
    "start_time": "2022-06-16T17:40:21.283Z"
   },
   {
    "duration": 453,
    "start_time": "2022-06-16T17:40:35.730Z"
   },
   {
    "duration": 410,
    "start_time": "2022-06-16T17:41:32.612Z"
   },
   {
    "duration": 350,
    "start_time": "2022-06-16T17:42:18.117Z"
   },
   {
    "duration": 297,
    "start_time": "2022-06-16T17:42:35.681Z"
   },
   {
    "duration": 240,
    "start_time": "2022-06-16T17:43:33.517Z"
   },
   {
    "duration": 221,
    "start_time": "2022-06-16T17:43:43.347Z"
   },
   {
    "duration": 401,
    "start_time": "2022-06-16T17:45:14.891Z"
   },
   {
    "duration": 290,
    "start_time": "2022-06-16T17:45:20.386Z"
   },
   {
    "duration": 339,
    "start_time": "2022-06-16T17:46:17.406Z"
   },
   {
    "duration": 138,
    "start_time": "2022-06-16T17:47:17.792Z"
   },
   {
    "duration": 154,
    "start_time": "2022-06-16T17:48:26.616Z"
   },
   {
    "duration": 695,
    "start_time": "2022-06-16T18:08:46.268Z"
   },
   {
    "duration": 9,
    "start_time": "2022-06-16T18:09:13.356Z"
   },
   {
    "duration": 522,
    "start_time": "2022-06-16T18:09:16.199Z"
   },
   {
    "duration": 217,
    "start_time": "2022-06-16T18:09:19.057Z"
   },
   {
    "duration": 371,
    "start_time": "2022-06-16T18:09:22.286Z"
   },
   {
    "duration": 273,
    "start_time": "2022-06-16T18:09:26.998Z"
   },
   {
    "duration": 364,
    "start_time": "2022-06-16T18:09:30.096Z"
   },
   {
    "duration": 309,
    "start_time": "2022-06-16T18:09:34.564Z"
   },
   {
    "duration": 5,
    "start_time": "2022-06-16T18:09:50.812Z"
   },
   {
    "duration": 170,
    "start_time": "2022-06-16T18:09:54.091Z"
   },
   {
    "duration": 6,
    "start_time": "2022-06-16T18:09:58.253Z"
   },
   {
    "duration": 607,
    "start_time": "2022-06-16T18:10:05.145Z"
   },
   {
    "duration": 767,
    "start_time": "2022-06-16T18:11:01.418Z"
   },
   {
    "duration": 547,
    "start_time": "2022-06-16T18:11:26.225Z"
   },
   {
    "duration": 27,
    "start_time": "2022-06-16T18:14:24.160Z"
   },
   {
    "duration": 26,
    "start_time": "2022-06-16T18:14:45.061Z"
   },
   {
    "duration": 43,
    "start_time": "2022-06-16T18:15:13.694Z"
   },
   {
    "duration": 10,
    "start_time": "2022-06-16T18:16:55.686Z"
   },
   {
    "duration": 31,
    "start_time": "2022-06-16T18:17:31.263Z"
   },
   {
    "duration": 27,
    "start_time": "2022-06-16T18:17:39.124Z"
   },
   {
    "duration": 37,
    "start_time": "2022-06-16T18:18:04.583Z"
   },
   {
    "duration": 36,
    "start_time": "2022-06-16T18:18:14.720Z"
   },
   {
    "duration": 26,
    "start_time": "2022-06-16T18:18:34.147Z"
   },
   {
    "duration": 25,
    "start_time": "2022-06-16T18:18:46.556Z"
   },
   {
    "duration": 33,
    "start_time": "2022-06-16T18:18:54.401Z"
   },
   {
    "duration": 29,
    "start_time": "2022-06-16T18:19:05.443Z"
   },
   {
    "duration": 33,
    "start_time": "2022-06-16T18:19:20.352Z"
   },
   {
    "duration": 25,
    "start_time": "2022-06-16T18:19:26.414Z"
   },
   {
    "duration": 39,
    "start_time": "2022-06-16T18:19:55.860Z"
   },
   {
    "duration": 50,
    "start_time": "2022-06-16T18:22:04.729Z"
   },
   {
    "duration": 69,
    "start_time": "2022-06-16T18:22:19.310Z"
   },
   {
    "duration": 70,
    "start_time": "2022-06-16T18:22:39.421Z"
   },
   {
    "duration": 149,
    "start_time": "2022-06-16T18:22:49.017Z"
   },
   {
    "duration": 74,
    "start_time": "2022-06-16T18:22:53.641Z"
   },
   {
    "duration": 63,
    "start_time": "2022-06-16T18:24:24.001Z"
   },
   {
    "duration": 49,
    "start_time": "2022-06-16T18:24:56.468Z"
   },
   {
    "duration": 113,
    "start_time": "2022-06-16T18:25:15.310Z"
   },
   {
    "duration": 31,
    "start_time": "2022-06-16T18:25:18.885Z"
   },
   {
    "duration": 48,
    "start_time": "2022-06-16T18:25:20.775Z"
   },
   {
    "duration": 105,
    "start_time": "2022-06-16T18:26:58.169Z"
   },
   {
    "duration": 38,
    "start_time": "2022-06-16T18:27:00.995Z"
   },
   {
    "duration": 14,
    "start_time": "2022-06-16T18:27:03.680Z"
   },
   {
    "duration": 47,
    "start_time": "2022-06-16T18:27:06.336Z"
   },
   {
    "duration": 46,
    "start_time": "2022-06-16T18:28:35.192Z"
   },
   {
    "duration": 144,
    "start_time": "2022-06-16T18:29:12.256Z"
   },
   {
    "duration": 62,
    "start_time": "2022-06-16T18:29:59.894Z"
   },
   {
    "duration": 88,
    "start_time": "2022-06-16T18:30:07.796Z"
   },
   {
    "duration": 45,
    "start_time": "2022-06-16T18:30:11.965Z"
   },
   {
    "duration": 12,
    "start_time": "2022-06-16T18:30:14.846Z"
   },
   {
    "duration": 18,
    "start_time": "2022-06-16T18:31:41.996Z"
   },
   {
    "duration": 39,
    "start_time": "2022-06-16T18:32:16.963Z"
   },
   {
    "duration": 9,
    "start_time": "2022-06-16T18:32:49.455Z"
   },
   {
    "duration": 84,
    "start_time": "2022-06-16T18:33:15.899Z"
   },
   {
    "duration": 30,
    "start_time": "2022-06-16T18:33:22.962Z"
   },
   {
    "duration": 16,
    "start_time": "2022-06-16T18:34:06.248Z"
   },
   {
    "duration": 102,
    "start_time": "2022-06-16T18:42:25.963Z"
   },
   {
    "duration": 41,
    "start_time": "2022-06-16T18:42:29.438Z"
   },
   {
    "duration": 11,
    "start_time": "2022-06-16T18:42:31.499Z"
   },
   {
    "duration": 44,
    "start_time": "2022-06-16T18:42:35.058Z"
   },
   {
    "duration": 8,
    "start_time": "2022-06-16T18:42:40.309Z"
   },
   {
    "duration": 488,
    "start_time": "2022-06-16T18:42:46.822Z"
   },
   {
    "duration": 276,
    "start_time": "2022-06-16T18:42:57.597Z"
   },
   {
    "duration": 304,
    "start_time": "2022-06-16T18:43:03.083Z"
   },
   {
    "duration": 254,
    "start_time": "2022-06-16T18:43:07.679Z"
   },
   {
    "duration": 324,
    "start_time": "2022-06-16T18:43:13.106Z"
   },
   {
    "duration": 180,
    "start_time": "2022-06-16T18:43:19.713Z"
   },
   {
    "duration": 4,
    "start_time": "2022-06-16T18:43:38.854Z"
   },
   {
    "duration": 158,
    "start_time": "2022-06-16T18:44:03.537Z"
   },
   {
    "duration": 5,
    "start_time": "2022-06-16T18:44:08.312Z"
   },
   {
    "duration": 44,
    "start_time": "2022-06-16T18:46:06.994Z"
   },
   {
    "duration": 11,
    "start_time": "2022-06-16T18:46:27.852Z"
   },
   {
    "duration": 9,
    "start_time": "2022-06-16T18:47:16.408Z"
   },
   {
    "duration": 5,
    "start_time": "2022-06-16T18:49:43.643Z"
   },
   {
    "duration": 6,
    "start_time": "2022-06-16T18:51:05.244Z"
   },
   {
    "duration": 14,
    "start_time": "2022-06-16T18:51:16.177Z"
   },
   {
    "duration": 3,
    "start_time": "2022-06-16T18:52:19.958Z"
   },
   {
    "duration": 49,
    "start_time": "2022-06-16T18:52:22.022Z"
   },
   {
    "duration": 14,
    "start_time": "2022-06-16T18:52:26.840Z"
   },
   {
    "duration": 14,
    "start_time": "2022-06-16T18:52:32.883Z"
   },
   {
    "duration": 103,
    "start_time": "2022-06-16T18:52:40.449Z"
   },
   {
    "duration": 30,
    "start_time": "2022-06-16T18:52:44.274Z"
   },
   {
    "duration": 10,
    "start_time": "2022-06-16T18:52:46.605Z"
   },
   {
    "duration": 42,
    "start_time": "2022-06-16T18:52:49.454Z"
   },
   {
    "duration": 9,
    "start_time": "2022-06-16T18:52:53.550Z"
   },
   {
    "duration": 543,
    "start_time": "2022-06-16T18:52:58.383Z"
   },
   {
    "duration": 237,
    "start_time": "2022-06-16T18:53:04.163Z"
   },
   {
    "duration": 295,
    "start_time": "2022-06-16T18:53:26.277Z"
   },
   {
    "duration": 243,
    "start_time": "2022-06-16T18:53:32.425Z"
   },
   {
    "duration": 286,
    "start_time": "2022-06-16T18:53:39.876Z"
   },
   {
    "duration": 152,
    "start_time": "2022-06-16T18:53:44.761Z"
   },
   {
    "duration": 5,
    "start_time": "2022-06-16T18:53:58.245Z"
   },
   {
    "duration": 156,
    "start_time": "2022-06-16T18:54:06.528Z"
   },
   {
    "duration": 5,
    "start_time": "2022-06-16T18:54:18.983Z"
   },
   {
    "duration": 55,
    "start_time": "2022-06-16T18:54:34.124Z"
   },
   {
    "duration": 13,
    "start_time": "2022-06-16T18:54:41.502Z"
   },
   {
    "duration": 14,
    "start_time": "2022-06-16T18:54:45.710Z"
   },
   {
    "duration": 7,
    "start_time": "2022-06-16T18:56:30.983Z"
   },
   {
    "duration": 14,
    "start_time": "2022-06-16T18:57:17.061Z"
   },
   {
    "duration": 5,
    "start_time": "2022-06-16T18:57:21.777Z"
   },
   {
    "duration": 7,
    "start_time": "2022-06-16T18:58:33.846Z"
   },
   {
    "duration": 12,
    "start_time": "2022-06-16T18:58:42.097Z"
   },
   {
    "duration": 14,
    "start_time": "2022-06-16T18:59:28.282Z"
   },
   {
    "duration": 9,
    "start_time": "2022-06-16T19:00:59.429Z"
   },
   {
    "duration": 29,
    "start_time": "2022-06-16T19:01:19.098Z"
   },
   {
    "duration": 14,
    "start_time": "2022-06-16T19:01:26.580Z"
   },
   {
    "duration": 1133,
    "start_time": "2022-06-18T06:21:51.056Z"
   },
   {
    "duration": 126,
    "start_time": "2022-06-18T06:21:53.060Z"
   },
   {
    "duration": 15,
    "start_time": "2022-06-18T06:21:57.953Z"
   },
   {
    "duration": 18,
    "start_time": "2022-06-18T06:22:05.481Z"
   },
   {
    "duration": 168,
    "start_time": "2022-06-18T06:22:19.852Z"
   },
   {
    "duration": 26,
    "start_time": "2022-06-18T06:22:22.710Z"
   },
   {
    "duration": 14,
    "start_time": "2022-06-18T06:22:25.434Z"
   },
   {
    "duration": 111,
    "start_time": "2022-06-18T06:22:27.981Z"
   },
   {
    "duration": 7,
    "start_time": "2022-06-18T06:22:41.636Z"
   },
   {
    "duration": 27,
    "start_time": "2022-06-18T06:22:46.325Z"
   },
   {
    "duration": 80,
    "start_time": "2022-06-18T06:22:54.047Z"
   },
   {
    "duration": 26,
    "start_time": "2022-06-18T06:23:01.330Z"
   },
   {
    "duration": 6,
    "start_time": "2022-06-18T06:23:04.268Z"
   },
   {
    "duration": 28,
    "start_time": "2022-06-18T06:23:10.286Z"
   },
   {
    "duration": 7,
    "start_time": "2022-06-18T06:23:20.119Z"
   },
   {
    "duration": 525,
    "start_time": "2022-06-18T06:24:21.209Z"
   },
   {
    "duration": 468,
    "start_time": "2022-06-18T06:25:37.220Z"
   },
   {
    "duration": 532,
    "start_time": "2022-06-18T06:27:09.612Z"
   },
   {
    "duration": 446,
    "start_time": "2022-06-18T06:28:41.861Z"
   },
   {
    "duration": 142,
    "start_time": "2022-06-18T06:33:23.794Z"
   },
   {
    "duration": 281,
    "start_time": "2022-06-18T06:33:32.517Z"
   },
   {
    "duration": 1115,
    "start_time": "2022-06-18T14:22:38.484Z"
   },
   {
    "duration": 133,
    "start_time": "2022-06-18T14:22:42.364Z"
   },
   {
    "duration": 14,
    "start_time": "2022-06-18T14:22:44.853Z"
   },
   {
    "duration": 12,
    "start_time": "2022-06-18T14:22:47.642Z"
   },
   {
    "duration": 180,
    "start_time": "2022-06-18T14:22:52.099Z"
   },
   {
    "duration": 26,
    "start_time": "2022-06-18T14:23:49.347Z"
   },
   {
    "duration": 14,
    "start_time": "2022-06-18T14:23:51.517Z"
   },
   {
    "duration": 168,
    "start_time": "2022-06-18T14:23:53.239Z"
   },
   {
    "duration": 8,
    "start_time": "2022-06-18T14:23:57.674Z"
   },
   {
    "duration": 651,
    "start_time": "2022-06-18T14:24:01.886Z"
   },
   {
    "duration": 213,
    "start_time": "2022-06-18T14:24:13.119Z"
   },
   {
    "duration": 3,
    "start_time": "2022-06-18T14:27:28.313Z"
   },
   {
    "duration": 32,
    "start_time": "2022-06-18T14:27:30.238Z"
   },
   {
    "duration": 12,
    "start_time": "2022-06-18T14:27:33.355Z"
   },
   {
    "duration": 21,
    "start_time": "2022-06-18T14:27:36.215Z"
   },
   {
    "duration": 91,
    "start_time": "2022-06-18T14:27:40.320Z"
   },
   {
    "duration": 6,
    "start_time": "2022-06-18T14:27:44.202Z"
   },
   {
    "duration": 29,
    "start_time": "2022-06-18T14:27:45.688Z"
   },
   {
    "duration": 558,
    "start_time": "2022-06-18T14:27:48.479Z"
   },
   {
    "duration": 311,
    "start_time": "2022-06-18T14:27:51.909Z"
   },
   {
    "duration": 397,
    "start_time": "2022-06-18T14:28:21.075Z"
   },
   {
    "duration": 119,
    "start_time": "2022-06-18T14:29:04.049Z"
   },
   {
    "duration": 30,
    "start_time": "2022-06-18T14:31:02.646Z"
   },
   {
    "duration": 99,
    "start_time": "2022-06-18T14:31:14.198Z"
   },
   {
    "duration": 36,
    "start_time": "2022-06-18T14:31:17.498Z"
   },
   {
    "duration": 11,
    "start_time": "2022-06-18T14:31:22.139Z"
   },
   {
    "duration": 30,
    "start_time": "2022-06-18T14:31:24.582Z"
   },
   {
    "duration": 8,
    "start_time": "2022-06-18T14:31:30.850Z"
   },
   {
    "duration": 535,
    "start_time": "2022-06-18T14:31:36.407Z"
   },
   {
    "duration": 332,
    "start_time": "2022-06-18T14:31:48.955Z"
   },
   {
    "duration": 345,
    "start_time": "2022-06-18T14:32:01.774Z"
   },
   {
    "duration": 223,
    "start_time": "2022-06-18T14:33:10.794Z"
   },
   {
    "duration": 330,
    "start_time": "2022-06-18T14:37:04.922Z"
   },
   {
    "duration": 9,
    "start_time": "2022-06-18T14:43:00.548Z"
   },
   {
    "duration": 141,
    "start_time": "2022-06-18T14:43:17.145Z"
   },
   {
    "duration": 5,
    "start_time": "2022-06-18T14:43:22.266Z"
   },
   {
    "duration": 130,
    "start_time": "2022-06-18T14:45:36.250Z"
   },
   {
    "duration": 5,
    "start_time": "2022-06-18T14:46:36.357Z"
   },
   {
    "duration": 40,
    "start_time": "2022-06-18T14:47:40.949Z"
   },
   {
    "duration": 13,
    "start_time": "2022-06-18T14:54:45.956Z"
   },
   {
    "duration": 11,
    "start_time": "2022-06-18T14:59:57.393Z"
   },
   {
    "duration": 8,
    "start_time": "2022-06-18T15:09:22.487Z"
   },
   {
    "duration": 7,
    "start_time": "2022-06-18T15:09:30.143Z"
   },
   {
    "duration": 29,
    "start_time": "2022-06-18T15:09:33.514Z"
   },
   {
    "duration": 21,
    "start_time": "2022-06-18T15:13:04.923Z"
   },
   {
    "duration": 1568,
    "start_time": "2022-06-19T09:33:30.654Z"
   },
   {
    "duration": 118,
    "start_time": "2022-06-19T09:33:32.225Z"
   },
   {
    "duration": 14,
    "start_time": "2022-06-19T09:33:32.345Z"
   },
   {
    "duration": 20,
    "start_time": "2022-06-19T09:33:32.361Z"
   },
   {
    "duration": 169,
    "start_time": "2022-06-19T09:33:32.384Z"
   },
   {
    "duration": 42,
    "start_time": "2022-06-19T09:33:32.555Z"
   },
   {
    "duration": 7,
    "start_time": "2022-06-19T09:33:32.600Z"
   },
   {
    "duration": 161,
    "start_time": "2022-06-19T09:33:32.609Z"
   },
   {
    "duration": 8,
    "start_time": "2022-06-19T09:33:32.772Z"
   },
   {
    "duration": 730,
    "start_time": "2022-06-19T09:33:32.782Z"
   },
   {
    "duration": 326,
    "start_time": "2022-06-19T09:33:33.516Z"
   },
   {
    "duration": 365,
    "start_time": "2022-06-19T09:33:33.844Z"
   },
   {
    "duration": 277,
    "start_time": "2022-06-19T09:33:34.211Z"
   },
   {
    "duration": 368,
    "start_time": "2022-06-19T09:33:34.491Z"
   },
   {
    "duration": 168,
    "start_time": "2022-06-19T09:33:34.862Z"
   },
   {
    "duration": 6,
    "start_time": "2022-06-19T09:33:35.032Z"
   },
   {
    "duration": 167,
    "start_time": "2022-06-19T09:33:35.040Z"
   },
   {
    "duration": 6,
    "start_time": "2022-06-19T09:33:35.209Z"
   },
   {
    "duration": 56,
    "start_time": "2022-06-19T09:33:35.228Z"
   },
   {
    "duration": 13,
    "start_time": "2022-06-19T09:33:35.286Z"
   },
   {
    "duration": 28,
    "start_time": "2022-06-19T09:33:35.301Z"
   },
   {
    "duration": 14,
    "start_time": "2022-06-19T09:33:35.331Z"
   },
   {
    "duration": 37,
    "start_time": "2022-06-19T09:33:35.348Z"
   },
   {
    "duration": 14,
    "start_time": "2022-06-19T09:33:35.387Z"
   }
  ],
  "kernelspec": {
   "display_name": "Python 3 (ipykernel)",
   "language": "python",
   "name": "python3"
  },
  "language_info": {
   "codemirror_mode": {
    "name": "ipython",
    "version": 3
   },
   "file_extension": ".py",
   "mimetype": "text/x-python",
   "name": "python",
   "nbconvert_exporter": "python",
   "pygments_lexer": "ipython3",
   "version": "3.8.9"
  },
  "toc": {
   "base_numbering": 1,
   "nav_menu": {
    "height": "332px",
    "width": "557px"
   },
   "number_sections": true,
   "sideBar": true,
   "skip_h1_title": true,
   "title_cell": "Table of Contents",
   "title_sidebar": "Contents",
   "toc_cell": false,
   "toc_position": {
    "height": "calc(100% - 180px)",
    "left": "10px",
    "top": "150px",
    "width": "366.391px"
   },
   "toc_section_display": true,
   "toc_window_display": true
  }
 },
 "nbformat": 4,
 "nbformat_minor": 2
}
